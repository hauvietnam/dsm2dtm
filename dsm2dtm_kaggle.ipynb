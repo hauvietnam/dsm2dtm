{
 "cells": [
  {
   "cell_type": "markdown",
   "metadata": {},
   "source": [
    "# DSM to DTM Semantic Segmentation with UperNet\n",
    "\n",
    "This notebook clones the DSM2DTM project from GitHub and runs the training on Kaggle."
   ]
  },
  {
   "cell_type": "markdown",
   "metadata": {},
   "source": [
    "## 1. Clone GitHub Repository and Install Dependencies"
   ]
  },
  {
   "cell_type": "code",
   "execution_count": null,
   "metadata": {},
   "outputs": [],
   "source": [
    "# Clone your GitHub repository\n",
    "# Update this URL to your actual GitHub repository\n",
    "!git clone https://github.com/yourusername/dsm2dtm.git\n",
    "%cd dsm2dtm\n",
    "\n",
    "# Install requirements\n",
    "!pip install -r requirements.txt"
   ]
  },
  {
   "cell_type": "markdown",
   "metadata": {},
   "source": [
    "## 2. Import Libraries and Project Modules"
   ]
  },
  {
   "cell_type": "code",
   "execution_count": null,
   "metadata": {},
   "outputs": [],
   "source": [
    "import os\n",
    "import sys\n",
    "import torch\n",
    "from transformers import ConvNextConfig, UperNetConfig, UperNetForSemanticSegmentation\n",
    "from torch.optim import AdamW\n",
    "from torch.nn import CrossEntropyLoss\n",
    "from tqdm import tqdm\n",
    "\n",
    "# Import project modules\n",
    "from dataloader import DSMPatchFolderDataset\n",
    "from torch.utils.data import DataLoader, random_split\n",
    "from utils import normalize_patch, calculate_patch_positions, is_valid_patch\n",
    "\n",
    "# Import training functions\n",
    "sys.path.append('.')\n",
    "from train import calculate_miou, train_loop, validate_loop, get_train_val_loaders"
   ]
  },
  {
   "cell_type": "markdown",
   "metadata": {},
   "source": [
    "## 3. Setup Dataset Path\n",
    "\n",
    "**Important:** Upload your dataset to Kaggle as a dataset and update the path below."
   ]
  },
  {
   "cell_type": "code",
   "execution_count": null,
   "metadata": {},
   "outputs": [],
   "source": [
    "# Configuration\n",
    "# Update this path to your Kaggle dataset\n",
    "dataset_root = \"/kaggle/input/your-dataset-name/datasets\" \n",
    "\n",
    "# Training parameters\n",
    "batch_size = 8\n",
    "patch_size = 256\n",
    "num_epochs = 100\n",
    "nodata_val = -9999\n",
    "nodata_threshold = 0.1\n",
    "number_of_classes = 2  # Binary segmentation (DTM vs non-DTM)\n",
    "\n",
    "device = torch.device(\"cuda\" if torch.cuda.is_available() else \"cpu\")\n",
    "print(f\"Using device: {device}\")\n",
    "\n",
    "# Check if dataset exists\n",
    "if os.path.exists(dataset_root):\n",
    "    print(f\"Dataset found at: {dataset_root}\")\n",
    "    print(f\"Contents: {os.listdir(dataset_root)}\")\n",
    "else:\n",
    "    print(f\"Dataset not found at: {dataset_root}\")\n",
    "    print(\"Please update the dataset_root path to your Kaggle dataset location.\")"
   ]
  },
  {
   "cell_type": "markdown",
   "metadata": {},
   "source": [
    "## 4. Create Data Loaders"
   ]
  },
  {
   "cell_type": "code",
   "execution_count": null,
   "metadata": {},
   "outputs": [],
   "source": [
    "train_loader, val_loader = get_train_val_loaders(\n",
    "    dataset_root,\n",
    "    batch_size,\n",
    "    patch_size,\n",
    "    nodata_val,\n",
    "    nodata_threshold,\n",
    "    val_split=0.2,\n",
    "    num_workers=2  # Reduced for Kaggle compatibility\n",
    ")\n",
    "\n",
    "print(f\"Training batches: {len(train_loader)}\")\n",
    "print(f\"Validation batches: {len(val_loader)}\")"
   ]
  },
  {
   "cell_type": "markdown",
   "metadata": {},
   "source": [
    "## 5. Initialize Model"
   ]
  },
  {
   "cell_type": "code",
   "execution_count": null,
   "metadata": {},
   "outputs": [],
   "source": [
    "# Configure UperNet with ConvNeXt backbone\n",
    "backbone_config = ConvNextConfig(out_features=[\"stage1\", \"stage2\", \"stage3\", \"stage4\"])\n",
    "config = UperNetConfig(backbone_config=backbone_config, num_labels=number_of_classes)\n",
    "model = UperNetForSemanticSegmentation(config)\n",
    "model.to(device)\n",
    "\n",
    "print(f\"Model created with {sum(p.numel() for p in model.parameters())} parameters\")"
   ]
  },
  {
   "cell_type": "markdown",
   "metadata": {},
   "source": [
    "## 6. Setup Training Components"
   ]
  },
  {
   "cell_type": "code",
   "execution_count": null,
   "metadata": {},
   "outputs": [],
   "source": [
    "# Loss function and optimizer\n",
    "criterion = CrossEntropyLoss(ignore_index=255)\n",
    "optimizer = AdamW(model.parameters(), lr=5e-5)\n",
    "\n",
    "best_miou = 0.0\n",
    "save_path = \"pretrain\""
   ]
  },
  {
   "cell_type": "markdown",
   "metadata": {},
   "source": [
    "## 7. Training Loop"
   ]
  },
  {
   "cell_type": "code",
   "execution_count": null,
   "metadata": {},
   "outputs": [],
   "source": [
    "for epoch in range(num_epochs):\n",
    "    print(f\"\\nEpoch {epoch+1}/{num_epochs}\")\n",
    "    \n",
    "    # Training\n",
    "    train_loop(train_loader, model, criterion, optimizer, device)\n",
    "    \n",
    "    # Validation\n",
    "    val_loss, val_acc, val_miou = validate_loop(val_loader, model, criterion, device, number_of_classes)\n",
    "\n",
    "    # Save best model\n",
    "    if val_miou > best_miou:\n",
    "        best_miou = val_miou\n",
    "        if not os.path.exists(save_path):\n",
    "            os.makedirs(save_path)\n",
    "        model.save_pretrained(save_path)\n",
    "        print(f\"New best model saved at: {save_path} with mIoU: {val_miou:.4f}\")\n",
    "    else:\n",
    "        print(f\"mIoU did not improve ({val_miou:.4f} <= {best_miou:.4f}), model not saved.\")\n",
    "\n",
    "print(f\"\\nTraining completed! Best mIoU: {best_miou:.4f}\")"
   ]
  },
  {
   "cell_type": "markdown",
   "metadata": {},
   "source": [
    "## 8. Test Inference (Optional)"
   ]
  },
  {
   "cell_type": "code",
   "execution_count": null,
   "metadata": {},
   "outputs": [],
   "source": [
    "# Test inference using the project's infer.py functions\n",
    "from infer import inference_on_raster\n",
    "\n",
    "# Load the best model for inference\n",
    "model = UperNetForSemanticSegmentation.from_pretrained(save_path)\n",
    "model.to(device)\n",
    "model.eval()\n",
    "\n",
    "# Example usage (uncomment and modify paths as needed)\n",
    "# input_path = \"/path/to/test/image.tif\"\n",
    "# output_path = \"prediction_output.tif\"\n",
    "# if os.path.exists(input_path):\n",
    "#     inference_on_raster(model, input_path, output_path, patch_size=256, nodata_val=-9999)\n",
    "\n",
    "print(\"Inference functions are available for testing.\")"
   ]
  },
  {
   "cell_type": "markdown",
   "metadata": {},
   "source": [
    "## 9. Save Results Summary"
   ]
  },
  {
   "cell_type": "code",
   "execution_count": null,
   "metadata": {},
   "outputs": [],
   "source": [
    "print(f\"Training completed successfully!\")\n",
    "print(f\"Best model saved in: {save_path}\")\n",
    "print(f\"Best validation mIoU: {best_miou:.4f}\")\n",
    "\n",
    "# List saved files\n",
    "if os.path.exists(save_path):\n",
    "    saved_files = os.listdir(save_path)\n",
    "    print(f\"Saved model files: {saved_files}\")\n",
    "    \n",
    "# Create a results summary file\n",
    "with open('training_results.txt', 'w') as f:\n",
    "    f.write(f\"Training completed\\n\")\n",
    "    f.write(f\"Best validation mIoU: {best_miou:.4f}\\n\")\n",
    "    f.write(f\"Total epochs: {num_epochs}\\n\")\n",
    "    f.write(f\"Batch size: {batch_size}\\n\")\n",
    "    f.write(f\"Patch size: {patch_size}\\n\")\n",
    "    f.write(f\"Number of classes: {number_of_classes}\\n\")\n",
    "    \n",
    "print(\"Results saved to training_results.txt\")"
   ]
  }
 ],
 "metadata": {
  "kernelspec": {
   "display_name": "Python 3",
   "language": "python",
   "name": "python3"
  },
  "language_info": {
   "codemirror_mode": {
    "name": "ipython",
    "version": 3
   },
   "file_extension": ".py",
   "mimetype": "text/x-python",
   "name": "python",
   "nbconvert_exporter": "python",
   "pygments_lexer": "ipython3",
   "version": "3.8.5"
  }
 },
 "nbformat": 4,
 "nbformat_minor": 4
}